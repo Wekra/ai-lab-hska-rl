{
 "cells": [
  {
   "cell_type": "markdown",
   "metadata": {},
   "source": [
    "# CartPole mit DQN"
   ]
  },
  {
   "cell_type": "markdown",
   "metadata": {},
   "source": [
    "## Aufgabe 3\n",
    "Löse das CartPole-v0 Environment mittels DQN."
   ]
  },
  {
   "cell_type": "code",
   "execution_count": 1,
   "metadata": {},
   "outputs": [],
   "source": [
    "%run ../setup.ipynb"
   ]
  },
  {
   "cell_type": "code",
   "execution_count": 2,
   "metadata": {},
   "outputs": [],
   "source": [
    "from lib.statistics import plot\n",
    "import time\n",
    "import numpy as np\n",
    "from collections import deque\n",
    "from contextlib import suppress\n",
    "\n",
    "def interact_with_environment(env, agent, n_episodes=500, max_steps=200, train=True, verbose=True):      \n",
    "    statistics = []\n",
    "    \n",
    "    with suppress(KeyboardInterrupt):\n",
    "        for episode in range(n_episodes):\n",
    "            done = False\n",
    "            total_reward = 0\n",
    "            state = env.reset()\n",
    "            episode_start_time = time.time()\n",
    "\n",
    "            for t in range(max_steps):\n",
    "                action = agent.act(state)\n",
    "                next_state, reward, done, _ = env.step(action)\n",
    "\n",
    "                if train:\n",
    "                    agent.train((state, action, next_state, reward, done))\n",
    "\n",
    "                state = next_state\n",
    "                total_reward += reward\n",
    "\n",
    "                if done:\n",
    "                    break\n",
    "\n",
    "            if verbose and episode % 10 == 0:\n",
    "                speed = t / (time.time() - episode_start_time)\n",
    "                print(f'episode: {episode}/{n_episodes}, score: {total_reward}, steps: {t}, '\n",
    "                      f'e: {agent.epsilon:.3f}, speed: {speed:.2f} steps/s')\n",
    "\n",
    "            statistics.append({\n",
    "                'episode': episode,\n",
    "                'score': total_reward,\n",
    "                'steps': t\n",
    "            })\n",
    "        \n",
    "    return statistics"
   ]
  },
  {
   "cell_type": "markdown",
   "metadata": {},
   "source": [
    "### 3.1\n",
    "Implementiere in **agent.py** einen Agenten, der in der Lage ist das CartPole Environment zu lösen."
   ]
  },
  {
   "cell_type": "code",
   "execution_count": 3,
   "metadata": {},
   "outputs": [],
   "source": [
    "import gym\n",
    "env = gym.make('CartPole-v0')"
   ]
  },
  {
   "cell_type": "code",
   "execution_count": 8,
   "metadata": {},
   "outputs": [
    {
     "name": "stdout",
     "output_type": "stream",
     "text": [
      "episode: 0/500, score: 27.0, steps: 26, e: 1.000, speed: 62208.73 steps/s\n",
      "episode: 10/500, score: 15.0, steps: 14, e: 1.000, speed: 65829.88 steps/s\n",
      "episode: 20/500, score: 12.0, steps: 11, e: 1.000, speed: 64258.14 steps/s\n",
      "episode: 30/500, score: 49.0, steps: 48, e: 1.000, speed: 66052.03 steps/s\n",
      "episode: 40/500, score: 35.0, steps: 34, e: 1.000, speed: 68891.95 steps/s\n",
      "episode: 50/500, score: 23.0, steps: 22, e: 1.000, speed: 64302.92 steps/s\n",
      "episode: 60/500, score: 12.0, steps: 11, e: 1.000, speed: 58773.69 steps/s\n",
      "episode: 70/500, score: 16.0, steps: 15, e: 1.000, speed: 66365.57 steps/s\n",
      "episode: 80/500, score: 12.0, steps: 11, e: 1.000, speed: 60947.61 steps/s\n",
      "episode: 90/500, score: 37.0, steps: 36, e: 0.967, speed: 66.27 steps/s\n",
      "episode: 100/500, score: 19.0, steps: 18, e: 0.851, speed: 77.09 steps/s\n",
      "episode: 110/500, score: 11.0, steps: 10, e: 0.772, speed: 71.05 steps/s\n",
      "episode: 120/500, score: 20.0, steps: 19, e: 0.704, speed: 77.99 steps/s\n",
      "episode: 130/500, score: 12.0, steps: 11, e: 0.601, speed: 70.22 steps/s\n",
      "episode: 140/500, score: 9.0, steps: 8, e: 0.537, speed: 65.28 steps/s\n",
      "episode: 150/500, score: 18.0, steps: 17, e: 0.466, speed: 72.00 steps/s\n",
      "episode: 160/500, score: 14.0, steps: 13, e: 0.406, speed: 72.28 steps/s\n",
      "episode: 170/500, score: 12.0, steps: 11, e: 0.351, speed: 71.42 steps/s\n",
      "episode: 180/500, score: 10.0, steps: 9, e: 0.298, speed: 63.81 steps/s\n",
      "episode: 190/500, score: 12.0, steps: 11, e: 0.243, speed: 69.66 steps/s\n",
      "episode: 200/500, score: 10.0, steps: 9, e: 0.189, speed: 63.68 steps/s\n",
      "episode: 210/500, score: 10.0, steps: 9, e: 0.139, speed: 64.21 steps/s\n",
      "episode: 220/500, score: 12.0, steps: 11, e: 0.090, speed: 66.18 steps/s\n",
      "episode: 230/500, score: 10.0, steps: 9, e: 0.039, speed: 64.91 steps/s\n",
      "episode: 240/500, score: 8.0, steps: 7, e: 0.010, speed: 55.66 steps/s\n",
      "episode: 250/500, score: 10.0, steps: 9, e: 0.010, speed: 58.31 steps/s\n",
      "episode: 260/500, score: 10.0, steps: 9, e: 0.010, speed: 62.59 steps/s\n",
      "episode: 270/500, score: 11.0, steps: 10, e: 0.010, speed: 65.24 steps/s\n",
      "episode: 280/500, score: 11.0, steps: 10, e: 0.010, speed: 67.38 steps/s\n",
      "episode: 290/500, score: 12.0, steps: 11, e: 0.010, speed: 65.30 steps/s\n",
      "episode: 300/500, score: 11.0, steps: 10, e: 0.010, speed: 64.48 steps/s\n",
      "episode: 310/500, score: 10.0, steps: 9, e: 0.010, speed: 64.14 steps/s\n",
      "episode: 320/500, score: 10.0, steps: 9, e: 0.010, speed: 64.94 steps/s\n",
      "episode: 330/500, score: 12.0, steps: 11, e: 0.010, speed: 65.95 steps/s\n",
      "episode: 340/500, score: 13.0, steps: 12, e: 0.010, speed: 65.74 steps/s\n",
      "episode: 350/500, score: 27.0, steps: 26, e: 0.010, speed: 67.29 steps/s\n",
      "episode: 360/500, score: 29.0, steps: 28, e: 0.010, speed: 72.97 steps/s\n",
      "episode: 370/500, score: 139.0, steps: 138, e: 0.010, speed: 70.68 steps/s\n",
      "episode: 380/500, score: 200.0, steps: 199, e: 0.010, speed: 70.79 steps/s\n",
      "episode: 390/500, score: 89.0, steps: 88, e: 0.010, speed: 64.75 steps/s\n",
      "episode: 400/500, score: 200.0, steps: 199, e: 0.010, speed: 71.13 steps/s\n",
      "episode: 410/500, score: 200.0, steps: 199, e: 0.010, speed: 68.25 steps/s\n",
      "episode: 420/500, score: 200.0, steps: 199, e: 0.010, speed: 68.95 steps/s\n",
      "episode: 430/500, score: 134.0, steps: 133, e: 0.010, speed: 70.58 steps/s\n",
      "episode: 440/500, score: 198.0, steps: 197, e: 0.010, speed: 71.10 steps/s\n",
      "episode: 450/500, score: 193.0, steps: 192, e: 0.010, speed: 70.42 steps/s\n",
      "episode: 460/500, score: 124.0, steps: 123, e: 0.010, speed: 70.21 steps/s\n",
      "episode: 470/500, score: 176.0, steps: 175, e: 0.010, speed: 70.41 steps/s\n",
      "episode: 480/500, score: 141.0, steps: 140, e: 0.010, speed: 70.44 steps/s\n",
      "episode: 490/500, score: 154.0, steps: 153, e: 0.010, speed: 70.59 steps/s\n"
     ]
    },
    {
     "data": {
      "image/png": "[encoded data removed]",
      "text/plain": [
       "<Figure size 432x288 with 1 Axes>"
      ]
     },
     "metadata": {
      "needs_background": "light"
     },
     "output_type": "display_data"
    }
   ],
   "source": [
    "from agent import DQN\n",
    "\n",
    "action_size = env.action_space.n\n",
    "action_space = env.action_space\n",
    "state_size = env.observation_space.shape[0]\n",
    "\n",
    "# Hyperparams\n",
    "annealing_steps = 2000  # not episodes!\n",
    "gamma = 0.95\n",
    "epsilon = 1.0 #1\n",
    "epsilon_min = 0.01\n",
    "epsilon_decay = (epsilon - epsilon_min) / annealing_steps\n",
    "alpha = 0.001\n",
    "batch_size = 64\n",
    "memory_size = 50000 #10000\n",
    "start_replay_step = 2000\n",
    "target_model_update_interval = 1000\n",
    "\n",
    "agent = DQN(action_size=action_size, action_space=action_space, state_size=state_size, gamma=gamma, \n",
    "            epsilon=epsilon, epsilon_decay=epsilon_decay, epsilon_min=epsilon_min, \n",
    "            alpha=alpha, batch_size=batch_size, memory_size=memory_size,\n",
    "            start_replay_step=start_replay_step, \n",
    "            target_model_update_interval=target_model_update_interval)\n",
    "statistics = interact_with_environment(env, agent, verbose=True)\n",
    "env.close()\n",
    "plot(statistics)\n"
   ]
  },
  {
   "cell_type": "code",
   "execution_count": 5,
   "metadata": {},
   "outputs": [
    {
     "data": {
      "image/png": "[encoded data removed]",
      "text/plain": [
       "<Figure size 432x288 with 1 Axes>"
      ]
     },
     "metadata": {
      "needs_background": "light"
     },
     "output_type": "display_data"
    },
    {
     "data": {
      "text/html": [
       "\n",
       "            <div align=\"middle\">\n",
       "            <video controls>\n",
       "                  <source src=\"video/openaigym.video.0.id.video000003.mp4\" type=\"video/mp4\">\n",
       "            </video></div>\n",
       "            "
      ],
      "text/plain": [
       "<IPython.core.display.HTML object>"
      ]
     },
     "execution_count": 5,
     "metadata": {},
     "output_type": "execute_result"
    }
   ],
   "source": [
    "from gym.wrappers import Monitor\n",
    "from lib.statistics import html_video_embedding\n",
    "\n",
    "# capture every episode and clean 'video' folder before each run\n",
    "env = gym.make('CartPole-v0')\n",
    "env = Monitor(env, './video', video_callable=lambda episode_id: True, force=True, uid='id')\n",
    "statistics = interact_with_environment(env, agent, n_episodes=10, train=False, verbose=False)\n",
    "env.close()\n",
    "plot(statistics, y_limits=(0,200))\n",
    "html_video_embedding(statistics)"
   ]
  },
  {
   "cell_type": "code",
   "execution_count": null,
   "metadata": {},
   "outputs": [],
   "source": []
  }
 ],
 "metadata": {
  "kernelspec": {
   "display_name": "Python 3",
   "language": "python",
   "name": "python3"
  },
  "language_info": {
   "codemirror_mode": {
    "name": "ipython",
    "version": 3
   },
   "file_extension": ".py",
   "mimetype": "text/x-python",
   "name": "python",
   "nbconvert_exporter": "python",
   "pygments_lexer": "ipython3",
   "version": "3.6.8"
  }
 },
 "nbformat": 4,
 "nbformat_minor": 2
}
