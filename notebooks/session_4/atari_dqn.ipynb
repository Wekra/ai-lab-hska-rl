{
 "cells": [
  {
   "cell_type": "markdown",
   "metadata": {},
   "source": [
    "# Atari mit DQN"
   ]
  },
  {
   "cell_type": "markdown",
   "metadata": {},
   "source": [
    "## Aufgabe 4\n",
    "Löse das PongNoFrameskip-v4 Environment mittels DQN."
   ]
  },
  {
   "cell_type": "code",
   "execution_count": null,
   "metadata": {},
   "outputs": [],
   "source": [
    "%run ../setup.ipynb"
   ]
  },
  {
   "cell_type": "code",
   "execution_count": null,
   "metadata": {},
   "outputs": [],
   "source": [
    "import time\n",
    "from datetime import datetime\n",
    "import numpy as np\n",
    "from contextlib import suppress\n",
    "from lib.loggers import TensorBoardLogger, tf_summary_image\n",
    "\n",
    "def interact_with_environment(env, agent, n_episodes=600, max_steps=1000000, train=True, verbose=True):      \n",
    "    statistics = []\n",
    "    tb_logger = TensorBoardLogger(f'./logs/run-{datetime.now().strftime(\"%Y-%m-%d_%H:%M:%S\")}')\n",
    "    \n",
    "    with suppress(KeyboardInterrupt):\n",
    "        total_step = 0\n",
    "        for episode in range(n_episodes):\n",
    "            done = False\n",
    "            episode_reward = 0\n",
    "            state = env.reset()\n",
    "            episode_start_time = time.time()\n",
    "            episode_step = 0\n",
    "\n",
    "            while not done:\n",
    "                action = agent.act(state)\n",
    "                next_state, reward, done, _ = env.step(action)\n",
    "\n",
    "                if train:\n",
    "                    agent.train((state, action, next_state, reward, done))\n",
    "\n",
    "                if episode == 0:\n",
    "                    # for debug purpose log every state of first episode\n",
    "                    for obs in state:\n",
    "                        tb_logger.log_image(f'state_t{episode_step}:', tf_summary_image(np.array(obs, copy=False)),\n",
    "                                            global_step=total_step)\n",
    "                state = next_state\n",
    "                episode_reward += reward\n",
    "                episode_step += 1\n",
    "            \n",
    "            total_step += episode_step\n",
    "\n",
    "            if episode % 10 == 0:\n",
    "                speed = episode_step / (time.time() - episode_start_time)\n",
    "                tb_logger.log_scalar('score', episode_reward, global_step=total_step)\n",
    "                tb_logger.log_scalar('epsilon', agent.epsilon, global_step=total_step)\n",
    "                tb_logger.log_scalar('speed', speed, global_step=total_step)\n",
    "                if verbose:\n",
    "                    print(f'episode: {episode}/{n_episodes}, score: {episode_reward}, steps: {episode_step}, '\n",
    "                          f'total steps: {total_step}, e: {agent.epsilon:.3f}, speed: {speed:.2f} steps/s')\n",
    "\n",
    "            statistics.append({\n",
    "                'episode': episode,\n",
    "                'score': episode_reward,\n",
    "                'steps': episode_step\n",
    "            })\n",
    "                                  \n",
    "            if total_step >= max_steps:\n",
    "                break\n",
    "        \n",
    "    return statistics"
   ]
  },
  {
   "cell_type": "markdown",
   "metadata": {},
   "source": [
    "### 4.1\n",
    "Implementiere in **agent.py** einen Agenten, der in der Lage ist das Environment zu lösen."
   ]
  },
  {
   "cell_type": "code",
   "execution_count": null,
   "metadata": {},
   "outputs": [],
   "source": [
    "import gym\n",
    "from lib.statistics import plot\n",
    "from lib.atari_helpers import wrap_deepmind, make_atari\n",
    "from agent import AtariDQN\n",
    "from tensorflow.keras.backend import set_session\n",
    "from IPython.display import SVG\n",
    "from tensorflow.python.keras.utils.vis_utils import model_to_dot\n",
    "\n",
    "env = make_atari('PongNoFrameskip-v4')\n",
    "env = wrap_deepmind(env, frame_stack=True)\n",
    "\n",
    "action_size = env.action_space.n\n",
    "state_size = env.observation_space.shape[0]\n",
    "\n",
    "# Hyperparams\n",
    "annealing_steps = 100000  # not episodes!\n",
    "gamma = 0.99\n",
    "epsilon = 1.0\n",
    "epsilon_min = 0.01\n",
    "epsilon_decay = (epsilon - epsilon_min) / annealing_steps\n",
    "alpha = 0.0001\n",
    "batch_size = 64\n",
    "memory_size = 10000\n",
    "start_replay_step = 10000\n",
    "target_model_update_interval = 1000\n",
    "train_freq = 4\n",
    "\n",
    "agent = AtariDQN(action_size=action_size, state_size=state_size, gamma=gamma, \n",
    "                 epsilon=epsilon, epsilon_decay=epsilon_decay, epsilon_min=epsilon_min, \n",
    "                 alpha=alpha, batch_size=batch_size, memory_size=memory_size,\n",
    "                 start_replay_step=start_replay_step, \n",
    "                 target_model_update_interval=target_model_update_interval, train_freq=train_freq)\n",
    "statistics = interact_with_environment(env, agent, verbose=True)\n",
    "env.close()\n",
    "plot(statistics)"
   ]
  },
  {
   "cell_type": "code",
   "execution_count": null,
   "metadata": {},
   "outputs": [],
   "source": [
    "from gym.wrappers import Monitor\n",
    "from lib.atari_helpers import wrap_deepmind, make_atari\n",
    "from lib.statistics import html_video_embedding\n",
    "\n",
    "# capture every episode and clean 'video' folder before each run\n",
    "env = make_atari('PongNoFrameskip-v4')\n",
    "env = Monitor(env, './video', video_callable=lambda episode_id: True, force=True, uid='id')\n",
    "env = wrap_deepmind(env, frame_stack=True)\n",
    "statistics = interact_with_environment(env, agent, n_episodes=10, train=False, verbose=False)\n",
    "env.close()\n",
    "\n",
    "plot(statistics, y_limits=(-21,21))\n",
    "html_video_embedding(statistics)"
   ]
  }
 ],
 "metadata": {
  "kernelspec": {
   "display_name": "Python 3",
   "language": "python",
   "name": "python3"
  },
  "language_info": {
   "codemirror_mode": {
    "name": "ipython",
    "version": 3
   },
   "file_extension": ".py",
   "mimetype": "text/x-python",
   "name": "python",
   "nbconvert_exporter": "python",
   "pygments_lexer": "ipython3",
   "version": "3.6.8"
  }
 },
 "nbformat": 4,
 "nbformat_minor": 2
}
